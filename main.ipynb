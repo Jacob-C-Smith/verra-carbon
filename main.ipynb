{
 "cells": [
  {
   "cell_type": "markdown",
   "metadata": {},
   "source": [
    "# Verra Carbon Analysis"
   ]
  },
  {
   "cell_type": "markdown",
   "metadata": {},
   "source": [
    "## Setup"
   ]
  },
  {
   "cell_type": "markdown",
   "metadata": {},
   "source": [
    "### Declare some information"
   ]
  },
  {
   "cell_type": "code",
   "execution_count": null,
   "metadata": {},
   "outputs": [],
   "source": [
    "# This lets python create graphs\n",
    "import matplotlib.pyplot as plt\n",
    "\n",
    "# This lets python read spreadsheets \n",
    "import csv\n",
    "\n",
    "# This lets python read dates\n",
    "import datetime\n",
    "\n",
    "# This is the spreadsheet in row major order\n",
    "table_row_major : list = [ ]\n",
    "\n",
    "# This is the spreadsheet in column major order\n",
    "table_column_major : list = [ ]\n",
    "\n",
    "# This is the spreadsheet in row major order, with only United States\n",
    "united_states_table_row_major : list = []\n",
    "\n",
    "# This is the spreadsheet in column major order, with only United States\n",
    "united_states_table_column_major : list = []\n",
    "\n",
    "# This is the quantity of rows in the spreadsheet\n",
    "table_row_count : int = 0\n",
    "\n",
    "# This is the quantity of columns in the spreadsheet\n",
    "table_column_count : int = 0\n",
    "\n",
    "united_states_table_row_count : int = 0\n",
    "united_states_table_column_count : int = 0\n",
    "\n",
    "# This is what each column stores\n",
    "column_identifiers : list = [\n",
    "    \"ID\",\n",
    "    \"Name\",\n",
    "    \"Proponent\",\n",
    "    \"Project Type\",\n",
    "    \"AFOLU Activities\",\n",
    "    \"Methodology\",\n",
    "    \"Status\",\n",
    "    \"Country/Area\",\n",
    "    \"Estimated Annual Emission Reductions\",\n",
    "    \"Region\",\n",
    "    \"Project Registration Date\",\n",
    "    \"Crediting Period Start Date\",\n",
    "    \"Crediting Period End Date\"\n",
    "]\n",
    "\n",
    "# This is the set of unique elements in each column\n",
    "unique_column_elements : list = [ ]\n",
    "\n",
    "# This is the quantity of unique elements in each column\n",
    "unique_column_elements_count : list = [ ]"
   ]
  },
  {
   "cell_type": "markdown",
   "metadata": {},
   "source": [
    "### Make the table"
   ]
  },
  {
   "cell_type": "code",
   "execution_count": null,
   "metadata": {},
   "outputs": [],
   "source": [
    "# This part of the code creates a table from the spreadsheet \n",
    "\n",
    "# Open the spreadsheet\n",
    "with open('allprojects.csv') as csv_file:\n",
    "\n",
    "    # Parse the spreadsheet\n",
    "    csv_reader = csv.reader(csv_file, delimiter=',')\n",
    "\n",
    "    # For each row in the spreadsheet ...\n",
    "    for row in csv_reader:\n",
    "\n",
    "        # ... add the row to the table\n",
    "        table_row_major.append(list(row))\n",
    "\n",
    "# Update the row count\n",
    "table_row_count = len(table_row_major)\n",
    "\n",
    "# Update the column count\n",
    "table_column_count = len(table_row_major[0])\n",
    "\n",
    "# Create a column major table from the row major table\n",
    "for column in range(table_column_count):\n",
    "    \n",
    "    # Declare a list for the column\n",
    "    column_list : list = [ ]\n",
    "\n",
    "    # For each column of each row ...\n",
    "    for row in range(table_row_count):\n",
    "\n",
    "        # ... add the cell to the list of column cells\n",
    "        column_list.append(table_row_major[row][column])\n",
    "\n",
    "    # Store the column\n",
    "    table_column_major.append(column_list)\n",
    "\n",
    "# Make a US only table in row major order\n",
    "for row in table_row_major:\n",
    "    if row[7] == 'United States':\n",
    "        united_states_table_row_major.append(row)\n",
    "\n",
    "united_states_table_row_count = len(united_states_table_row_major)\n",
    "united_states_table_column_count = len(united_states_table_row_major[0])\n",
    "\n",
    "# Make a US only table in column major order\n",
    "for column in range(united_states_table_column_count):\n",
    "\n",
    "    column_list : list = [ ]\n",
    "\n",
    "    for row in range(united_states_table_row_count):\n",
    "        column_list.append(united_states_table_row_major[row][column])\n",
    "    \n",
    "    united_states_table_column_major.append(column_list)"
   ]
  },
  {
   "cell_type": "markdown",
   "metadata": {},
   "source": [
    "## Filters\n",
    "\n",
    "### TODO\n"
   ]
  },
  {
   "cell_type": "code",
   "execution_count": null,
   "metadata": {},
   "outputs": [],
   "source": [
    "table_column_major = united_states_table_column_major"
   ]
  },
  {
   "cell_type": "markdown",
   "metadata": {},
   "source": [
    "## Statistics"
   ]
  },
  {
   "cell_type": "code",
   "execution_count": null,
   "metadata": {},
   "outputs": [],
   "source": [
    "# This part of the code computes statistics about the dataset\n",
    "\n",
    "# For each column\n",
    "for c in range(table_column_count):\n",
    "\n",
    "    # Remove duplicates from the column\n",
    "    unique_column_elements.append(set(table_column_major[c]))\n",
    "\n",
    "    # Count the number of unique items in the column\n",
    "    unique_column_elements_count.append(len(set(table_column_major[c])))"
   ]
  },
  {
   "cell_type": "markdown",
   "metadata": {},
   "source": [
    "### All"
   ]
  },
  {
   "cell_type": "code",
   "execution_count": null,
   "metadata": {},
   "outputs": [],
   "source": []
  },
  {
   "cell_type": "code",
   "execution_count": null,
   "metadata": {},
   "outputs": [],
   "source": [
    "# This outputs a lot of data \n",
    "\n",
    "for i in range(table_column_major[4].count('')):\n",
    "    table_column_major[4].remove('')\n",
    "    \n",
    "# Fix errors in status\n",
    "#unique_column_elements[6].remove('Status')\n",
    "\n",
    "# Fix Estimated Annual Emissions\n",
    "for i in range(table_column_major[8].count('Estimated Annual Emission Reductions')):\n",
    "    table_column_major[8].remove('Estimated Annual Emission Reductions')\n",
    "\n",
    "# Fix errors in Region\n",
    "#unique_column_elements[9].remove('')\n",
    "#unique_column_elements[9].remove('Region')\n",
    "\n",
    "# Fix errors in Project registration date\n",
    "#unique_column_elements[10].remove('Project Registration Date')\n",
    "#table_column_major[10].remove('Project Registration Date')\n",
    "\n",
    "for i in range(table_column_major[10].count('')):\n",
    "    table_column_major[10].remove('')\n",
    "\n",
    "# For each column in the table ...\n",
    "for C in range(table_column_count):\n",
    "\n",
    "    # ... print the name of the column, and the number of unique cells in said column ...\n",
    "    print(f\"\\n\\nVerra data set has {unique_column_elements_count[C]} unique {column_identifiers[C]}(s):\")\n",
    "\n",
    "    # ... then print each unique cell\n",
    "    for c in sorted(unique_column_elements[C]):\n",
    "        print(f\" - {c}\")\n"
   ]
  },
  {
   "cell_type": "markdown",
   "metadata": {},
   "source": [
    "### IDs"
   ]
  },
  {
   "cell_type": "markdown",
   "metadata": {},
   "source": [
    "### Names"
   ]
  },
  {
   "cell_type": "code",
   "execution_count": null,
   "metadata": {},
   "outputs": [],
   "source": []
  },
  {
   "cell_type": "markdown",
   "metadata": {},
   "source": [
    "### Proponents"
   ]
  },
  {
   "cell_type": "code",
   "execution_count": null,
   "metadata": {},
   "outputs": [],
   "source": []
  },
  {
   "cell_type": "markdown",
   "metadata": {},
   "source": [
    "### Project Types"
   ]
  },
  {
   "cell_type": "code",
   "execution_count": null,
   "metadata": {},
   "outputs": [],
   "source": [
    "# Make a bar chart for the quantity of statuses of each project\n",
    "regions : list = list(unique_column_elements[3])\n",
    "region_count : list = [ ]\n",
    "\n",
    "for r in range(len(regions)):\n",
    "    z = table_column_major[3].count(regions[r])\n",
    "    region_count.append(z)\n",
    "\n",
    "# Set the X axis label\n",
    "plt.xlabel(\"Quantity of projects\")\n",
    "\n",
    "# Set the Y axis label\n",
    "plt.ylabel(\"Type of project\")\n",
    "\n",
    "# Create a horizontal bar graph\n",
    "plt.barh(width=region_count, y=regions)\n",
    "\n",
    "# Show it\n",
    "plt.show()"
   ]
  },
  {
   "cell_type": "markdown",
   "metadata": {},
   "source": [
    "### AFOLU Activities"
   ]
  },
  {
   "cell_type": "markdown",
   "metadata": {},
   "source": [
    "### Methodologies"
   ]
  },
  {
   "cell_type": "code",
   "execution_count": null,
   "metadata": {},
   "outputs": [],
   "source": [
    "# Make a bar chart for the quantity of statuses of each project\n",
    "regions : list = list(unique_column_elements[4])\n",
    "region_count : list = [ ]\n",
    "\n",
    "for r in range(len(regions)):\n",
    "    z = table_column_major[4].count(regions[r])\n",
    "    region_count.append(z)\n",
    "\n",
    "# Set the X axis label\n",
    "plt.xlabel(\"Quantity of projects\")\n",
    "\n",
    "# Set the Y axis label\n",
    "plt.ylabel(\"Methodology\")\n",
    "\n",
    "# Create a horizontal bar graph\n",
    "plt.barh(width=region_count, y=regions)\n",
    "\n",
    "# Show it\n",
    "plt.show()"
   ]
  },
  {
   "cell_type": "markdown",
   "metadata": {},
   "source": [
    "### Statuses"
   ]
  },
  {
   "cell_type": "code",
   "execution_count": null,
   "metadata": {},
   "outputs": [],
   "source": [
    "# Make a bar chart for the quantity of statuses of each project\n",
    "regions : list = list(unique_column_elements[6])\n",
    "region_count : list = [ ]\n",
    "\n",
    "for r in range(len(regions)):\n",
    "    z = table_column_major[6].count(regions[r])\n",
    "    region_count.append(z)\n",
    "\n",
    "# Set the X axis label\n",
    "plt.xlabel(\"Quantity of projects\")\n",
    "\n",
    "# Set the Y axis label\n",
    "plt.ylabel(\"Status of project\")\n",
    "\n",
    "# Create a horizontal bar graph\n",
    "plt.barh(width=region_count, y=regions)\n",
    "\n",
    "# Show it\n",
    "plt.show()"
   ]
  },
  {
   "cell_type": "markdown",
   "metadata": {},
   "source": [
    "### Countries"
   ]
  },
  {
   "cell_type": "code",
   "execution_count": null,
   "metadata": {},
   "outputs": [],
   "source": [
    "# Make a bar chart for the quantity of projects in each region\n",
    "#regions : list = list(unique_column_elements[9])\n",
    "#region_count : list = [ ]\n",
    "\n",
    "#for r in range(len(regions)):\n",
    "#    z = table_column_major[9].count(regions[r])\n",
    "#    region_count.append(z)\n",
    "\n",
    "# Set the X axis label\n",
    "#plt.xlabel(\"Quantity of projects\")\n",
    "\n",
    "# Set the Y axis label\n",
    "#plt.ylabel(\"Region\")\n",
    "\n",
    "# Create a horizontal bar graph\n",
    "#plt.barh(width=region_count, y=regions)\n",
    "\n",
    "# Show it\n",
    "#plt.show()"
   ]
  },
  {
   "cell_type": "markdown",
   "metadata": {},
   "source": [
    "### Estimated Annual Emission Reductions"
   ]
  },
  {
   "cell_type": "code",
   "execution_count": null,
   "metadata": {},
   "outputs": [],
   "source": [
    "# Make a bar chart for project registration year\n",
    "est_annual_emission_reductions : list = table_column_major[8]\n",
    "eaer_buckets : list = [ 0, 0, 0, 0, 0, 0, 0, 0, 0, 0 ]\n",
    "for eaer in est_annual_emission_reductions:\n",
    "    eaerc : int = 0\n",
    "    eaerc = 0\n",
    "    teaer : int = 0\n",
    "    teaer = int(eaer)\n",
    "    while teaer > 1:\n",
    "        eaerc+=1\n",
    "        teaer = teaer / 10\n",
    "    eaer_buckets[eaerc]+=1\n",
    "\n",
    "# Set the X axis label\n",
    "plt.xlabel(\"Quantity of projects\")\n",
    "\n",
    "# Set the Y axis label\n",
    "plt.ylabel(\"Estimated Annual Emission Reductions\")\n",
    "\n",
    "# Create a horizontal bar graph\n",
    "plt.barh(y=[\"10e0 - 10e1\", \"10e1 - 10e2\", \"10e2 - 10e3\", \"10e3 - 10e4\", \"10e4 - 10e5\", \"10e5 - 10e6\", \"10e6 - 10e7\", \"10e7 - 10e8\", \"\", \"\"], width=eaer_buckets)\n",
    "\n",
    "# Show it\n",
    "plt.show()"
   ]
  },
  {
   "cell_type": "markdown",
   "metadata": {},
   "source": [
    "### Region"
   ]
  },
  {
   "cell_type": "code",
   "execution_count": null,
   "metadata": {},
   "outputs": [],
   "source": [
    "# Make a bar chart for the quantity of projects in each region\n",
    "regions : list = list(unique_column_elements[9])\n",
    "region_count : list = [ ]\n",
    "\n",
    "for r in range(len(regions)):\n",
    "    z = table_column_major[9].count(regions[r])\n",
    "    region_count.append(z)\n",
    "\n",
    "# Set the X axis label\n",
    "plt.xlabel(\"Quantity of projects\")\n",
    "\n",
    "# Set the Y axis label\n",
    "plt.ylabel(\"Region\")\n",
    "\n",
    "# Create a horizontal bar graph\n",
    "plt.barh(width=region_count, y=regions)\n",
    "\n",
    "# Show it\n",
    "plt.show()"
   ]
  },
  {
   "cell_type": "markdown",
   "metadata": {},
   "source": [
    "### Project Registration Date"
   ]
  },
  {
   "cell_type": "code",
   "execution_count": null,
   "metadata": {},
   "outputs": [],
   "source": [
    "# Make a bar chart for project registration date\n",
    "regions : list = list(unique_column_elements[10])\n",
    "region_count : list = [ ]\n",
    "\n",
    "for r in range(len(regions)):\n",
    "    z = table_column_major[10].count(regions[r])\n",
    "    region_count.append(z)\n",
    "\n",
    "# Set the X axis label\n",
    "plt.xlabel(\"Quantity of projects\")\n",
    "\n",
    "# Set the Y axis label\n",
    "plt.ylabel(\"Registration date\")\n",
    "\n",
    "# Create a horizontal bar graph\n",
    "plt.barh(width=region_count, y=regions)\n",
    "\n",
    "# Show it\n",
    "plt.show()\n"
   ]
  },
  {
   "cell_type": "code",
   "execution_count": null,
   "metadata": {},
   "outputs": [],
   "source": [
    "# Make a bar chart for project registration year\n",
    "ryr_dates_m : list = table_column_major[10]\n",
    "ryr_date_month : list = [ ]\n",
    "ryr_date_count_year : list = [ ]\n",
    "ryr_date_ctr_month : list = [ ]\n",
    "\n",
    "for r in range(len(ryr_dates_m)):\n",
    "    dty = datetime.datetime.strptime(ryr_dates_m[r], \"%Y-%m-%d\")\n",
    "    ryr_date_month.append(dty.year)\n",
    "\n",
    "ryr_date_count_month = list(sorted(set(ryr_date_month)))\n",
    "\n",
    "for i, y in enumerate(ryr_date_count_month):\n",
    "    ryr_date_ctr_month.append(ryr_date_month.count(y))\n",
    "\n",
    "# Set the X axis label\n",
    "plt.xlabel(\"Quantity of projects\")\n",
    "\n",
    "# Set the Y axis label\n",
    "plt.ylabel(\"Year\")\n",
    "\n",
    "# Create a horizontal bar graph\n",
    "plt.barh(width=ryr_date_ctr_month, y=ryr_date_count_month)\n",
    "\n",
    "# Show it\n",
    "plt.show()"
   ]
  },
  {
   "cell_type": "code",
   "execution_count": null,
   "metadata": {},
   "outputs": [],
   "source": [
    "# Make a bar chart for project registration month\n",
    "ryr_dates_m : list = table_column_major[10]\n",
    "ryr_date_month : list = [ ]\n",
    "ryr_date_count_year : list = [ ]\n",
    "ryr_date_ctr_month : list = [0, 0, 0, 0, 0, 0, 0, 0, 0, 0, 0, 0 ]\n",
    "\n",
    "for r in range(len(ryr_dates_m)):\n",
    "    dty = datetime.datetime.strptime(ryr_dates_m[r], \"%Y-%m-%d\")\n",
    "    ryr_date_month.append(dty.month)\n",
    "\n",
    "ryr_date_count_month = list(sorted(set(ryr_date_month)))\n",
    "\n",
    "for i, y in enumerate(ryr_date_count_month):\n",
    "    ryr_date_ctr_month[i]=ryr_date_month.count(y)\n",
    "\n",
    "# Set the X axis label\n",
    "plt.xlabel(\"Quantity of projects\")\n",
    "\n",
    "# Set the Y axis label\n",
    "plt.ylabel(\"Month\")\n",
    "\n",
    "# Create a horizontal bar graph\n",
    "plt.barh(width=ryr_date_ctr_month, y=[\"Jan\",\"Feb\",\"Mar\",\"Apr\",\"May\",\"Jun\",\"Jul\",\"Aug\",\"Sep\",\"Oct\",\"Nov\",\"Dec\"])\n",
    "\n",
    "# Show it\n",
    "plt.show()"
   ]
  },
  {
   "cell_type": "code",
   "execution_count": null,
   "metadata": {},
   "outputs": [],
   "source": [
    "# Make a bar chart for project registration day of the month\n",
    "ryr_dates_m : list = table_column_major[10]\n",
    "ryr_date_month : list = [ ]\n",
    "ryr_date_count_year : list = [ ]\n",
    "ryr_date_ctr_month : list = [ ]\n",
    "\n",
    "for r in range(len(ryr_dates_m)):\n",
    "    dty = datetime.datetime.strptime(ryr_dates_m[r], \"%Y-%m-%d\")\n",
    "    ryr_date_month.append(dty.day)\n",
    "\n",
    "ryr_date_count_month = list(sorted(set(ryr_date_month)))\n",
    "\n",
    "for i, y in enumerate(ryr_date_count_month):\n",
    "    ryr_date_ctr_month.append(ryr_date_month.count(y))\n",
    "\n",
    "# Set the X axis label\n",
    "plt.xlabel(\"Quantity of projects\")\n",
    "\n",
    "# Set the Y axis label\n",
    "plt.ylabel(\"Day\")\n",
    "\n",
    "# Create a horizontal bar graph\n",
    "plt.barh(width=ryr_date_ctr_month, y=ryr_date_count_month)\n",
    "\n",
    "# Show it\n",
    "plt.show()"
   ]
  },
  {
   "cell_type": "markdown",
   "metadata": {},
   "source": [
    "### Crediting Period Start Date"
   ]
  },
  {
   "cell_type": "code",
   "execution_count": null,
   "metadata": {},
   "outputs": [],
   "source": [
    "# Make a bar chart for project registration date\n",
    "regions : list = list(unique_column_elements[11])\n",
    "region_count : list = [ ]\n",
    "\n",
    "for r in range(len(regions)):\n",
    "    z = table_column_major[11].count(regions[r])\n",
    "    region_count.append(z)\n",
    "\n",
    "# Set the X axis label\n",
    "plt.xlabel(\"Quantity of projects\")\n",
    "\n",
    "# Set the Y axis label\n",
    "plt.ylabel(\"Registration date\")\n",
    "\n",
    "# Create a horizontal bar graph\n",
    "plt.barh(width=region_count, y=regions)\n",
    "\n",
    "# Show it\n",
    "plt.show()"
   ]
  },
  {
   "cell_type": "code",
   "execution_count": null,
   "metadata": {},
   "outputs": [],
   "source": [
    "# Make a bar chart for project registration year\n",
    "ryr_dates_m : list = table_column_major[11]\n",
    "ryr_date_month : list = [ ]\n",
    "ryr_date_count_year : list = [ ]\n",
    "ryr_date_ctr_month : list = [ ]\n",
    "\n",
    "for r in range(len(ryr_dates_m)):\n",
    "    if ryr_dates_m[r] == '':\n",
    "        continue\n",
    "    dty = datetime.datetime.strptime(ryr_dates_m[r], \"%Y-%m-%d\")\n",
    "    ryr_date_month.append(dty.year)\n",
    "\n",
    "ryr_date_count_month = list(sorted(set(ryr_date_month)))\n",
    "\n",
    "for i, y in enumerate(ryr_date_count_month):\n",
    "    ryr_date_ctr_month.append(ryr_date_month.count(y))\n",
    "\n",
    "# Set the X axis label\n",
    "plt.xlabel(\"Quantity of projects\")\n",
    "\n",
    "# Set the Y axis label\n",
    "plt.ylabel(\"Year\")\n",
    "\n",
    "# Create a horizontal bar graph\n",
    "plt.barh(width=ryr_date_ctr_month, y=ryr_date_count_month)\n",
    "\n",
    "# Show it\n",
    "plt.show()"
   ]
  },
  {
   "cell_type": "markdown",
   "metadata": {},
   "source": [
    "### Crediting Period End Date"
   ]
  },
  {
   "cell_type": "code",
   "execution_count": null,
   "metadata": {},
   "outputs": [],
   "source": [
    "# Make a bar chart for project registration year\n",
    "ryr_dates_m : list = table_column_major[12]\n",
    "ryr_date_month : list = [ ]\n",
    "ryr_date_count_year : list = [ ]\n",
    "ryr_date_ctr_month : list = [ ]\n",
    "\n",
    "for r in range(len(ryr_dates_m)):\n",
    "    if ryr_dates_m[r] == '':\n",
    "        continue\n",
    "    dty = datetime.datetime.strptime(ryr_dates_m[r], \"%Y-%m-%d\")\n",
    "    ryr_date_month.append(dty.year)\n",
    "\n",
    "ryr_date_count_month = list(sorted(set(ryr_date_month)))\n",
    "\n",
    "for i, y in enumerate(ryr_date_count_month):\n",
    "    ryr_date_ctr_month.append(ryr_date_month.count(y))\n",
    "\n",
    "plt.title(\"Quantity of projects by crediting period end date \")\n",
    "# Set the X axis label\n",
    "plt.xlabel(\"Quantity of projects\")\n",
    "\n",
    "# Set the Y axis label\n",
    "plt.ylabel(\"Year\")\n",
    "\n",
    "# Create a horizontal bar graph\n",
    "plt.barh(width=ryr_date_ctr_month, y=ryr_date_count_month)\n",
    "\n",
    "# Show it\n",
    "plt.show()"
   ]
  }
 ],
 "metadata": {
  "kernelspec": {
   "display_name": "Python 3",
   "language": "python",
   "name": "python3"
  },
  "language_info": {
   "codemirror_mode": {
    "name": "ipython",
    "version": 3
   },
   "file_extension": ".py",
   "mimetype": "text/x-python",
   "name": "python",
   "nbconvert_exporter": "python",
   "pygments_lexer": "ipython3",
   "version": "3.11.5"
  }
 },
 "nbformat": 4,
 "nbformat_minor": 2
}
